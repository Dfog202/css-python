{
 "cells": [
  {
   "cell_type": "code",
   "execution_count": 14,
   "metadata": {
    "collapsed": false,
    "scrolled": false
   },
   "outputs": [
    {
     "ename": "SyntaxError",
     "evalue": "invalid syntax (<ipython-input-14-30f146f7a05e>, line 4)",
     "output_type": "error",
     "traceback": [
      "\u001b[0;36m  File \u001b[0;32m\"<ipython-input-14-30f146f7a05e>\"\u001b[0;36m, line \u001b[0;32m4\u001b[0m\n\u001b[0;31m    while :\u001b[0m\n\u001b[0m          ^\u001b[0m\n\u001b[0;31mSyntaxError\u001b[0m\u001b[0;31m:\u001b[0m invalid syntax\n"
     ]
    }
   ],
   "source": [
    "first = int(input(\"First any number\"))\n",
    "second = int(input(\"Second any number\"))\n",
    "\n",
    "while :\n",
    "    if first != 1:\n",
    "        first / 2, second * 2\n",
    "        print(first, second)\n",
    "    else:\n",
    "        print(first + second)\n",
    "        break\n",
    "        "
   ]
  },
  {
   "cell_type": "code",
   "execution_count": 22,
   "metadata": {
    "collapsed": false,
    "scrolled": false
   },
   "outputs": [
    {
     "name": "stdout",
     "output_type": "stream",
     "text": [
      "type two number with space: ex)12 15 12 15\n",
      "  12      15 struck\n",
      "   6      30 struck\n",
      "   3      60 keep\n",
      "   1     120 keep\n"
     ]
    },
    {
     "data": {
      "text/plain": [
       "'The result is 180'"
      ]
     },
     "execution_count": 22,
     "metadata": {},
     "output_type": "execute_result"
    }
   ],
   "source": [
    "# 쌤 정답\n",
    "# define process\n",
    "def halve(x):\n",
    "    return x // 2\n",
    "\n",
    "def double(x):\n",
    "    return x * 2\n",
    "\n",
    "def even(x):\n",
    "    return not x % 2\n",
    "\n",
    "# user input\n",
    "# --두개를 같이 받고 스페이스와 스플릿을 통해 구분\n",
    "numberset = str(input(\"type two number with space: ex)12 15 \")).split()\n",
    "\n",
    "# main process\n",
    "def ethiopian(first, second):\n",
    "    # --결과값을 0으로 설정하고\n",
    "    result = 0\n",
    "    while first >= 1:\n",
    "        # 홀수일때\n",
    "        if even(first):\n",
    "            # %4d 4번 띄우고 %7d 7번 띄우고 결과값을 표처럼 보일수 있게\n",
    "            print(\"%4d %7d struck\" % (first, second))\n",
    "        # 짝수일때\n",
    "        else:\n",
    "            print(\"%4d %7d keep\" % (first, second))\n",
    "            result += second\n",
    "\n",
    "        first = halve(first)\n",
    "        second = double(second)\n",
    "        \n",
    "    # %d 에 %result 를 보이게    \n",
    "    return(\"The result is %d\" % result)\n",
    "    \n",
    "\n",
    "# --스플릿으로 나눠져서 리스트 형태인 넘버셋을 첫번째와 두번째를 받음\n",
    "ethiopian(int(numberset[0]), int(numberset[1]))"
   ]
  },
  {
   "cell_type": "code",
   "execution_count": 23,
   "metadata": {
    "collapsed": false
   },
   "outputs": [
    {
     "name": "stdout",
     "output_type": "stream",
     "text": [
      "First any number 12\n",
      "Second any number 15\n",
      "180\n"
     ]
    }
   ],
   "source": [
    "# 다른분 정답\n",
    "num = int(input(\"First any number \"))\n",
    "num2 = int(input(\"Second any number \"))\n",
    "\n",
    "result = 0\n",
    "\n",
    "while True:\n",
    "    if num % 2 == 1:\n",
    "        result = result + num2\n",
    "    num = num // 2\n",
    "    num2 = num2 * 2\n",
    "    \n",
    "    if num == 0:\n",
    "        print(result)\n",
    "        break\n"
   ]
  },
  {
   "cell_type": "code",
   "execution_count": 27,
   "metadata": {
    "collapsed": false
   },
   "outputs": [
    {
     "name": "stdout",
     "output_type": "stream",
     "text": [
      "How many times want to curse the beast??: 3\n",
      "Fusion!! (2 times left)\n",
      "Fusion!! (1 times left)\n",
      "Fusion!! (0 times left)\n",
      "curse complete!\n"
     ]
    }
   ],
   "source": [
    "times = int(input(\"How many times want to curse the beast??: \"))\n",
    "def recurse_beast(a):\n",
    "    # a가 0일때 종료하기\n",
    "    if a == 0:\n",
    "        print(\"curse complete!\")\n",
    "    else:\n",
    "        print(\"Fusion!! (%d times left)\" % (a-1))\n",
    "        # recurse_beast 를 다시 실행\n",
    "        recurse_beast(a-1)\n",
    "        \n",
    "recurse_beast(times)"
   ]
  },
  {
   "cell_type": "code",
   "execution_count": 28,
   "metadata": {
    "collapsed": false
   },
   "outputs": [
    {
     "name": "stdout",
     "output_type": "stream",
     "text": [
      "[2, 4, 6, 8, 10]\n"
     ]
    }
   ],
   "source": [
    "old_list = [1, 2, 3, 4, 5,]\n",
    "\n",
    "doubled_list = []\n",
    "for i in old_list:\n",
    "    doubled_list.append(i * 2)\n",
    "\n",
    "print(doubled_list)"
   ]
  },
  {
   "cell_type": "code",
   "execution_count": 29,
   "metadata": {
    "collapsed": false
   },
   "outputs": [
    {
     "name": "stdout",
     "output_type": "stream",
     "text": [
      "[2, 4, 6, 8, 10]\n"
     ]
    }
   ],
   "source": [
    "doubled_listcomp = [i * 2 for i in old_list]\n",
    "print(doubled_listcomp)"
   ]
  },
  {
   "cell_type": "code",
   "execution_count": 32,
   "metadata": {
    "collapsed": false
   },
   "outputs": [
    {
     "name": "stdout",
     "output_type": "stream",
     "text": [
      "[4, 8]\n"
     ]
    }
   ],
   "source": [
    "# 조건문이 붙어있을때\n",
    "old_list = [1, 2, 3, 4, 5,]\n",
    "\n",
    "doubled_list = []\n",
    "for i in old_list:\n",
    "    if i % 2 == 0:\n",
    "        doubled_list.append(i * 2)\n",
    "\n",
    "print(doubled_list)"
   ]
  },
  {
   "cell_type": "code",
   "execution_count": 33,
   "metadata": {
    "collapsed": false
   },
   "outputs": [
    {
     "name": "stdout",
     "output_type": "stream",
     "text": [
      "[4, 8]\n"
     ]
    }
   ],
   "source": [
    "doubled_listcon = [i * 2 for i in old_list if i % 2 == 0]\n",
    "print(doubled_list)"
   ]
  },
  {
   "cell_type": "code",
   "execution_count": 34,
   "metadata": {
    "collapsed": true
   },
   "outputs": [],
   "source": [
    "f = open(\"newfile.txt\", 'w')\n",
    "f.close()"
   ]
  },
  {
   "cell_type": "code",
   "execution_count": 35,
   "metadata": {
    "collapsed": true
   },
   "outputs": [],
   "source": [
    "# 쓰기\n",
    "f = open(\"newfile.txt\", 'a')\n",
    "for i in range(1,11):\n",
    "    text = \"line %d. \\n\" % i\n",
    "    f.write(text)\n",
    "f.close()"
   ]
  },
  {
   "cell_type": "code",
   "execution_count": 38,
   "metadata": {
    "collapsed": false
   },
   "outputs": [
    {
     "name": "stdout",
     "output_type": "stream",
     "text": [
      "line 1. \n",
      "\n"
     ]
    }
   ],
   "source": [
    "# 읽기\n",
    "f = open(\"newfile.txt\", 'r')\n",
    "text = f.readline()\n",
    "print(text)\n",
    "f.close()"
   ]
  },
  {
   "cell_type": "code",
   "execution_count": 39,
   "metadata": {
    "collapsed": false
   },
   "outputs": [
    {
     "name": "stdout",
     "output_type": "stream",
     "text": [
      "line 1. \n",
      "\n",
      "line 2. \n",
      "\n",
      "line 3. \n",
      "\n",
      "line 4. \n",
      "\n",
      "line 5. \n",
      "\n",
      "line 6. \n",
      "\n",
      "line 7. \n",
      "\n",
      "line 8. \n",
      "\n",
      "line 9. \n",
      "\n",
      "line 10. \n",
      "\n"
     ]
    }
   ],
   "source": [
    "f = open(\"newfile.txt\", 'r')\n",
    "while True:\n",
    "    text = f.readline()\n",
    "    if not text: break\n",
    "    print(text)\n",
    "f.close()"
   ]
  },
  {
   "cell_type": "code",
   "execution_count": 42,
   "metadata": {
    "collapsed": false
   },
   "outputs": [
    {
     "name": "stdout",
     "output_type": "stream",
     "text": [
      "['line 1. \\n', 'line 2. \\n', 'line 3. \\n', 'line 4. \\n', 'line 5. \\n', 'line 6. \\n', 'line 7. \\n', 'line 8. \\n', 'line 9. \\n', 'line 10. \\n']\n",
      "['line 1. \\n', 'line 2. \\n', 'line 3. \\n', 'line 4. \\n', 'line 5. \\n', 'line 6. \\n', 'line 7. \\n', 'line 8. \\n', 'line 9. \\n', 'line 10. \\n']\n",
      "['line 1. \\n', 'line 2. \\n', 'line 3. \\n', 'line 4. \\n', 'line 5. \\n', 'line 6. \\n', 'line 7. \\n', 'line 8. \\n', 'line 9. \\n', 'line 10. \\n']\n",
      "['line 1. \\n', 'line 2. \\n', 'line 3. \\n', 'line 4. \\n', 'line 5. \\n', 'line 6. \\n', 'line 7. \\n', 'line 8. \\n', 'line 9. \\n', 'line 10. \\n']\n",
      "['line 1. \\n', 'line 2. \\n', 'line 3. \\n', 'line 4. \\n', 'line 5. \\n', 'line 6. \\n', 'line 7. \\n', 'line 8. \\n', 'line 9. \\n', 'line 10. \\n']\n",
      "['line 1. \\n', 'line 2. \\n', 'line 3. \\n', 'line 4. \\n', 'line 5. \\n', 'line 6. \\n', 'line 7. \\n', 'line 8. \\n', 'line 9. \\n', 'line 10. \\n']\n",
      "['line 1. \\n', 'line 2. \\n', 'line 3. \\n', 'line 4. \\n', 'line 5. \\n', 'line 6. \\n', 'line 7. \\n', 'line 8. \\n', 'line 9. \\n', 'line 10. \\n']\n",
      "['line 1. \\n', 'line 2. \\n', 'line 3. \\n', 'line 4. \\n', 'line 5. \\n', 'line 6. \\n', 'line 7. \\n', 'line 8. \\n', 'line 9. \\n', 'line 10. \\n']\n",
      "['line 1. \\n', 'line 2. \\n', 'line 3. \\n', 'line 4. \\n', 'line 5. \\n', 'line 6. \\n', 'line 7. \\n', 'line 8. \\n', 'line 9. \\n', 'line 10. \\n']\n",
      "['line 1. \\n', 'line 2. \\n', 'line 3. \\n', 'line 4. \\n', 'line 5. \\n', 'line 6. \\n', 'line 7. \\n', 'line 8. \\n', 'line 9. \\n', 'line 10. \\n']\n"
     ]
    }
   ],
   "source": [
    "# 왜 10번 읽어내지...뭐가 문제일까\n",
    "f = open(\"newfile.txt\", 'r')\n",
    "texts = f.readlines()\n",
    "for text in texts:\n",
    "    print(texts)\n",
    "f.close()"
   ]
  },
  {
   "cell_type": "code",
   "execution_count": 43,
   "metadata": {
    "collapsed": true
   },
   "outputs": [],
   "source": [
    "f = open(\"newfile.txt\", 'a')\n",
    "for i in range(11, 20):\n",
    "    text = \"New line %d \\n\" % i\n",
    "    f.write(text)\n",
    "\n",
    "f.close()"
   ]
  },
  {
   "cell_type": "code",
   "execution_count": 44,
   "metadata": {
    "collapsed": true
   },
   "outputs": [],
   "source": [
    "# 어떠한 액션이 종료되면 프로세스가 끝났다고 생각해서 프로세스도 종료\n",
    "with open(\"foo.txt\", 'w') as f:\n",
    "    f.write(\"foo is text dummy\")"
   ]
  },
  {
   "cell_type": "code",
   "execution_count": 50,
   "metadata": {
    "collapsed": false
   },
   "outputs": [
    {
     "name": "stdout",
     "output_type": "stream",
     "text": [
      "Type the number: da\n",
      "What?! TYPE ONLY NUMBER!!!\n"
     ]
    }
   ],
   "source": [
    "try:\n",
    "    some_input = int(input(\"Type the number: \"))\n",
    "\n",
    "except ValueError:\n",
    "    print(\"What?! TYPE ONLY NUMBER!!!\")"
   ]
  },
  {
   "cell_type": "code",
   "execution_count": 51,
   "metadata": {
    "collapsed": false
   },
   "outputs": [
    {
     "name": "stdout",
     "output_type": "stream",
     "text": [
      "Type the number: lol\n",
      "What?! TYPE ONLY NUMBER!!!\n",
      "invalid literal for int() with base 10: 'lol'\n"
     ]
    }
   ],
   "source": [
    "try:\n",
    "    some_input = int(input(\"Type the number: \"))\n",
    "\n",
    "except ValueError as e:\n",
    "    print(\"What?! TYPE ONLY NUMBER!!!\")\n",
    "    print(e)"
   ]
  },
  {
   "cell_type": "code",
   "execution_count": 53,
   "metadata": {
    "collapsed": false
   },
   "outputs": [
    {
     "name": "stdout",
     "output_type": "stream",
     "text": [
      "[Errno 2] No such file or directory: 'error_example.txt'\n"
     ]
    }
   ],
   "source": [
    "try:\n",
    "    f = open(\"error_example.txt\", 'r')\n",
    "except FileNotFoundError as e:\n",
    "    print(e)\n",
    "else:\n",
    "    text = f.read()\n",
    "    f.close()"
   ]
  },
  {
   "cell_type": "code",
   "execution_count": 54,
   "metadata": {
    "collapsed": false
   },
   "outputs": [
    {
     "name": "stdout",
     "output_type": "stream",
     "text": [
      "Ho\n"
     ]
    }
   ],
   "source": [
    "# 파일이 있었다면 하,호 출력. 없었다면 except 를 pass 하고 호 만 출력\n",
    "try:\n",
    "    f = open(\"error_example.txt\", 'r')\n",
    "except FileNotFoundError as e:\n",
    "    pass\n",
    "# 패스되는 구간~\n",
    "else:\n",
    "    print(\"HA\")\n",
    "    f.close()\n",
    "# ↓↓↓↓↓↓ 공통적으로 진행되는 부분\n",
    "print(\"Ho\")"
   ]
  },
  {
   "cell_type": "code",
   "execution_count": null,
   "metadata": {
    "collapsed": true
   },
   "outputs": [],
   "source": []
  }
 ],
 "metadata": {
  "kernelspec": {
   "display_name": "Python 3",
   "language": "python",
   "name": "python3"
  },
  "language_info": {
   "codemirror_mode": {
    "name": "ipython",
    "version": 3
   },
   "file_extension": ".py",
   "mimetype": "text/x-python",
   "name": "python",
   "nbconvert_exporter": "python",
   "pygments_lexer": "ipython3",
   "version": "3.6.0"
  }
 },
 "nbformat": 4,
 "nbformat_minor": 2
}
