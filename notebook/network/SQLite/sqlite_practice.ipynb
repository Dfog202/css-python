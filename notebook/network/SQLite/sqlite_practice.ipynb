{
 "cells": [
  {
   "cell_type": "code",
   "execution_count": 8,
   "metadata": {
    "collapsed": false
   },
   "outputs": [
    {
     "name": "stdout",
     "output_type": "stream",
     "text": [
      "(1, 'Fastcampus', 3, 'Python')\n"
     ]
    }
   ],
   "source": [
    "import sqlite3 as lite\n",
    "\n",
    "# 다른폴더에 있다면 ../ << 한단계위로\n",
    "conn = lite.connect('users.db')\n",
    "cur = conn.cursor()\n",
    "cur.execute(\"SELECT * from user\")\n",
    "rows = cur.fetchall()\n",
    "\n",
    "for row in rows:\n",
    "    print(row)\n",
    "conn.close()"
   ]
  },
  {
   "cell_type": "code",
   "execution_count": 9,
   "metadata": {
    "collapsed": false
   },
   "outputs": [
    {
     "name": "stdout",
     "output_type": "stream",
     "text": [
      "(1, 'Fastcampus', 3, 'Python')\n",
      "(2, 'ythwork', 30, 'c')\n",
      "(3, 'Lee', 32, 'golang')\n",
      "(4, 'kim', 24, 'facebook')\n"
     ]
    }
   ],
   "source": [
    "conn = lite.connect('users.db')\n",
    "cur = conn.cursor()\n",
    "cur.execute(\"INSERT INTO user (name, age, lang)\\\n",
    "VALUES('ythwork', 30, 'c')\")\n",
    "cur.execute(\"INSERT INTO user (name, age, lang)\\\n",
    "VALUES('Lee', 32, 'golang')\")\n",
    "cur.execute(\"INSERT INTO user (name, age, lang)\\\n",
    "VALUES('kim', 24, 'facebook')\")\n",
    "\n",
    "cur.execute(\"SELECT * from user\")\n",
    "rows = cur.fetchall()\n",
    "\n",
    "for row in rows:\n",
    "    print(row)\n",
    "conn.commit()\n",
    "conn.close()"
   ]
  },
  {
   "cell_type": "code",
   "execution_count": 11,
   "metadata": {
    "collapsed": false,
    "scrolled": false
   },
   "outputs": [
    {
     "name": "stdout",
     "output_type": "stream",
     "text": [
      "id =  1\n",
      "name =  Fastcampus\n",
      "age =  3\n",
      "lang =  Python \n",
      "\n",
      "id =  2\n",
      "name =  ythwork\n",
      "age =  30\n",
      "lang =  c \n",
      "\n",
      "id =  3\n",
      "name =  Lee\n",
      "age =  32\n",
      "lang =  golang \n",
      "\n",
      "id =  4\n",
      "name =  kim\n",
      "age =  24\n",
      "lang =  facebook \n",
      "\n",
      "print closed\n"
     ]
    }
   ],
   "source": [
    "conn = lite.connect('users.db')\n",
    "with conn:\n",
    "    cur = conn.execute(\"select id, name, age, lang from user\")\n",
    "    for row in rows:\n",
    "        print(\"id = \", row[0])\n",
    "        print(\"name = \", row[1])\n",
    "        print(\"age = \", row[2])\n",
    "        print(\"lang = \", row[3], '\\n')\n",
    "\n",
    "print('print closed')\n",
    "conn.close()"
   ]
  },
  {
   "cell_type": "code",
   "execution_count": 12,
   "metadata": {
    "collapsed": false
   },
   "outputs": [
    {
     "ename": "OperationalError",
     "evalue": "near \" \": syntax error",
     "output_type": "error",
     "traceback": [
      "\u001b[0;31m---------------------------------------------------------------------------\u001b[0m",
      "\u001b[0;31mOperationalError\u001b[0m                          Traceback (most recent call last)",
      "\u001b[0;32m<ipython-input-12-f047be720966>\u001b[0m in \u001b[0;36m<module>\u001b[0;34m()\u001b[0m\n\u001b[1;32m      3\u001b[0m \u001b[0;34m\u001b[0m\u001b[0m\n\u001b[1;32m      4\u001b[0m \u001b[0;32mwith\u001b[0m \u001b[0mconn\u001b[0m \u001b[0;34m:\u001b[0m\u001b[0;34m\u001b[0m\u001b[0m\n\u001b[0;32m----> 5\u001b[0;31m     \u001b[0mconn\u001b[0m\u001b[0;34m.\u001b[0m\u001b[0mexecute\u001b[0m\u001b[0;34m(\u001b[0m\u001b[0;34m\"UPDATE \"\u001b[0m\u001b[0;34m)\u001b[0m\u001b[0;34m\u001b[0m\u001b[0m\n\u001b[0m\u001b[1;32m      6\u001b[0m \u001b[0;34m\u001b[0m\u001b[0m\n\u001b[1;32m      7\u001b[0m \u001b[0;34m\u001b[0m\u001b[0m\n",
      "\u001b[0;31mOperationalError\u001b[0m: near \" \": syntax error"
     ]
    }
   ],
   "source": [
    "conn = lite.connect('users.db')\n",
    "cur = conn.cursor()\n",
    "\n",
    "# 미완성\n",
    "with conn :\n",
    "    conn.execute(\"UPDATE\")\n",
    "    \n",
    "\n",
    "conn.close()"
   ]
  },
  {
   "cell_type": "code",
   "execution_count": 15,
   "metadata": {
    "collapsed": false
   },
   "outputs": [
    {
     "name": "stdout",
     "output_type": "stream",
     "text": [
      "Deletion complete\n",
      "id =  1\n",
      "name =  Fastcampus\n",
      "age =  3\n",
      "lang =  Python \n",
      "\n",
      "id =  2\n",
      "name =  ythwork\n",
      "age =  30\n",
      "lang =  c \n",
      "\n",
      "id =  4\n",
      "name =  kim\n",
      "age =  24\n",
      "lang =  facebook \n",
      "\n"
     ]
    }
   ],
   "source": [
    "conn = lite.connect('users.db')\n",
    "\n",
    "with conn:\n",
    "    conn.execute(\"DELETE from user where id = 3\")\n",
    "    conn.commit()\n",
    "    print(\"Deletion complete\")\n",
    "    \n",
    "    user_data = conn.execute(\"SELECT id, name, age, lang from user\")\n",
    "    for user in user_data:\n",
    "        print(\"id = \", user[0])\n",
    "        print(\"name = \", user[1])\n",
    "        print(\"age = \", user[2])\n",
    "        print(\"lang = \", user[3], '\\n')\n",
    "\n",
    "\n",
    "conn.close()"
   ]
  },
  {
   "cell_type": "code",
   "execution_count": null,
   "metadata": {
    "collapsed": true
   },
   "outputs": [],
   "source": []
  }
 ],
 "metadata": {
  "kernelspec": {
   "display_name": "Python 3",
   "language": "python",
   "name": "python3"
  },
  "language_info": {
   "codemirror_mode": {
    "name": "ipython",
    "version": 3
   },
   "file_extension": ".py",
   "mimetype": "text/x-python",
   "name": "python",
   "nbconvert_exporter": "python",
   "pygments_lexer": "ipython3",
   "version": "3.6.0"
  }
 },
 "nbformat": 4,
 "nbformat_minor": 2
}
