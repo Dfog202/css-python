{
 "cells": [
  {
   "cell_type": "code",
   "execution_count": 1,
   "metadata": {
    "collapsed": true
   },
   "outputs": [],
   "source": [
    "# oop 개념의 진행과정? 개발과정?\n",
    "\n",
    "my_name = \"grag\"\n",
    "your_name = \"matt\"\n",
    "\n",
    "my_age = \"18\"\n",
    "your_age = \"25\"\n",
    "\n",
    "my_money = 5000\n",
    "your_money = 1000"
   ]
  },
  {
   "cell_type": "code",
   "execution_count": 2,
   "metadata": {
    "collapsed": true
   },
   "outputs": [],
   "source": [
    "# 가독성을 위해 재정렬\n",
    "\n",
    "my_name = \"grag\"\n",
    "my_age = \"18\"\n",
    "my_money = 5000\n",
    "\n",
    "your_name = \"matt\"\n",
    "your_age = \"25\"\n",
    "your_money = 1000"
   ]
  },
  {
   "cell_type": "code",
   "execution_count": 3,
   "metadata": {
    "collapsed": true
   },
   "outputs": [],
   "source": [
    "# 프로그램 상에서 묶어보자\n",
    "# 연관성있는 데이터를 모아놨어!\n",
    "\n",
    "my_dic = dict(name = \"grag\", age = 18, money = 5000)\n",
    "your_dic = {\"name\" : \"matt\", \"age\" : 25, \"money\" : 1000}"
   ]
  },
  {
   "cell_type": "code",
   "execution_count": 6,
   "metadata": {
    "collapsed": false
   },
   "outputs": [],
   "source": [
    "# 내가 하는 행동을 나타내는 함수\n",
    "\n",
    "def give_money(give_dic, receive_dic, money):\n",
    "    give_dic[\"money\"] = give_dic[\"money\"] - money\n",
    "    receive_dic.update({\"money\" : receive_dic.get(\"money\") + money})"
   ]
  },
  {
   "cell_type": "code",
   "execution_count": 7,
   "metadata": {
    "collapsed": true
   },
   "outputs": [],
   "source": [
    "give_money(my_dic, your_dic, 2000)"
   ]
  },
  {
   "cell_type": "code",
   "execution_count": 8,
   "metadata": {
    "collapsed": false
   },
   "outputs": [
    {
     "data": {
      "text/plain": [
       "{'age': 18, 'money': 3000, 'name': 'grag'}"
      ]
     },
     "execution_count": 8,
     "metadata": {},
     "output_type": "execute_result"
    }
   ],
   "source": [
    "my_dic"
   ]
  },
  {
   "cell_type": "code",
   "execution_count": 9,
   "metadata": {
    "collapsed": false
   },
   "outputs": [
    {
     "data": {
      "text/plain": [
       "{'age': 25, 'money': 3000, 'name': 'matt'}"
      ]
     },
     "execution_count": 9,
     "metadata": {},
     "output_type": "execute_result"
    }
   ],
   "source": [
    "your_dic"
   ]
  },
  {
   "cell_type": "code",
   "execution_count": 10,
   "metadata": {
    "collapsed": true
   },
   "outputs": [],
   "source": [
    "# 함수를 넣어볼까\n",
    "my_dic[\"func_1\"] = give_money"
   ]
  },
  {
   "cell_type": "code",
   "execution_count": 11,
   "metadata": {
    "collapsed": false
   },
   "outputs": [
    {
     "data": {
      "text/plain": [
       "{'age': 18,\n",
       " 'func_1': <function __main__.give_money>,\n",
       " 'money': 3000,\n",
       " 'name': 'grag'}"
      ]
     },
     "execution_count": 11,
     "metadata": {},
     "output_type": "execute_result"
    }
   ],
   "source": [
    "my_dic"
   ]
  },
  {
   "cell_type": "code",
   "execution_count": 12,
   "metadata": {
    "collapsed": true
   },
   "outputs": [],
   "source": [
    "my_dic[\"func_1\"](my_dic, your_dic, 2000)"
   ]
  },
  {
   "cell_type": "code",
   "execution_count": 13,
   "metadata": {
    "collapsed": false
   },
   "outputs": [
    {
     "data": {
      "text/plain": [
       "{'age': 18,\n",
       " 'func_1': <function __main__.give_money>,\n",
       " 'money': 1000,\n",
       " 'name': 'grag'}"
      ]
     },
     "execution_count": 13,
     "metadata": {},
     "output_type": "execute_result"
    }
   ],
   "source": [
    "my_dic"
   ]
  },
  {
   "cell_type": "code",
   "execution_count": 14,
   "metadata": {
    "collapsed": true
   },
   "outputs": [],
   "source": [
    "# \"연관성\" 있는 변수와 함수를 한 곳에 모아놨어!!\n",
    "\n",
    "your_dic[\"func_1\"] = give_money"
   ]
  },
  {
   "cell_type": "code",
   "execution_count": 16,
   "metadata": {
    "collapsed": false
   },
   "outputs": [
    {
     "data": {
      "text/plain": [
       "{'age': 18,\n",
       " 'func_1': <function __main__.give_money>,\n",
       " 'money': 1000,\n",
       " 'name': 'grag'}"
      ]
     },
     "execution_count": 16,
     "metadata": {},
     "output_type": "execute_result"
    }
   ],
   "source": [
    "my_dic"
   ]
  },
  {
   "cell_type": "code",
   "execution_count": 17,
   "metadata": {
    "collapsed": false
   },
   "outputs": [
    {
     "data": {
      "text/plain": [
       "{'age': 25,\n",
       " 'func_1': <function __main__.give_money>,\n",
       " 'money': 5000,\n",
       " 'name': 'matt'}"
      ]
     },
     "execution_count": 17,
     "metadata": {},
     "output_type": "execute_result"
    }
   ],
   "source": [
    "your_dic"
   ]
  },
  {
   "cell_type": "code",
   "execution_count": 18,
   "metadata": {
    "collapsed": true
   },
   "outputs": [],
   "source": [
    "def initialize_person_dic(name, age, money, func):\n",
    "    dic = {}\n",
    "    dic[\"name\"] = name\n",
    "    dic[\"age\"] = age\n",
    "    dic[\"money\"] = money\n",
    "    dic[\"func\"] = func\n",
    "    return dic"
   ]
  },
  {
   "cell_type": "code",
   "execution_count": 19,
   "metadata": {
    "collapsed": true
   },
   "outputs": [],
   "source": [
    "his_dic = initialize_person_dic(\"sam\", 11, 200, give_money)"
   ]
  },
  {
   "cell_type": "code",
   "execution_count": 20,
   "metadata": {
    "collapsed": false
   },
   "outputs": [
    {
     "data": {
      "text/plain": [
       "{'age': 11,\n",
       " 'func': <function __main__.give_money>,\n",
       " 'money': 200,\n",
       " 'name': 'sam'}"
      ]
     },
     "execution_count": 20,
     "metadata": {},
     "output_type": "execute_result"
    }
   ],
   "source": [
    "his_dic"
   ]
  },
  {
   "cell_type": "code",
   "execution_count": 21,
   "metadata": {
    "collapsed": true
   },
   "outputs": [],
   "source": [
    "her_dic = initialize_person_dic(\"sara\", 24, 20000, give_money)"
   ]
  },
  {
   "cell_type": "code",
   "execution_count": 32,
   "metadata": {
    "collapsed": true
   },
   "outputs": [],
   "source": [
    "class Person:\n",
    "    # 데이터 값에 기본값도 설정 가능 ex) money\n",
    "    # 디폴트 값을 주는 원칙은 우측에서 좌측으로! 중간 입력 불가\n",
    "    def __init__(self, name, age, money = 1000, car = None): # 생성자(construcor)\n",
    "        self.name = name\n",
    "        self.age = age\n",
    "        self.money = money\n",
    "        self.car = car\n",
    "    \n",
    "    # 삭제될때 메세지를 띄우는 등... 필요할경우가 생김!\n",
    "    def __del__(self): # 객체가 없어질 때 반드시 호출\n",
    "        print(\"소멸자 호출\")\n",
    "    \n",
    "    def Givemoney(self, other, money): # 주는사람의 주체를 표현하기위해 셀프\n",
    "        self.money -= money\n",
    "        other.money += money\n",
    "        "
   ]
  },
  {
   "cell_type": "code",
   "execution_count": 31,
   "metadata": {
    "collapsed": false
   },
   "outputs": [
    {
     "name": "stdout",
     "output_type": "stream",
     "text": [
      "소멸자 호출\n"
     ]
    }
   ],
   "source": [
    "per_1 = Person(\"grag\", 100, 5000)"
   ]
  },
  {
   "cell_type": "code",
   "execution_count": 33,
   "metadata": {
    "collapsed": true
   },
   "outputs": [],
   "source": [
    "a = 5\n",
    "b = 5"
   ]
  },
  {
   "cell_type": "code",
   "execution_count": 35,
   "metadata": {
    "collapsed": false
   },
   "outputs": [
    {
     "name": "stdout",
     "output_type": "stream",
     "text": [
      "9272768 9272768\n"
     ]
    }
   ],
   "source": [
    "# a, b 는 한가지 값을 가르키는 지표일뿐 값은 같다,\n",
    "print(id(a), id(b))"
   ]
  },
  {
   "cell_type": "code",
   "execution_count": 47,
   "metadata": {
    "collapsed": false
   },
   "outputs": [],
   "source": [
    "# 심볼테이블 : 변수를 저장해 놓은 공간\n",
    "# 클래스 맴버 : 모든 객체가 공유합니다.\n",
    "\n",
    "class Point:\n",
    "    a = 10\n",
    "    def __init__(self, _x, _y):\n",
    "        self.x = _x\n",
    "        self.y = _y\n",
    "        \n",
    "    def showinfo(self):\n",
    "        print(\"( {}, {} )\".format(self.x, self.y))"
   ]
  },
  {
   "cell_type": "code",
   "execution_count": 52,
   "metadata": {
    "collapsed": false
   },
   "outputs": [
    {
     "name": "stdout",
     "output_type": "stream",
     "text": [
      "( 1, 1 )\n",
      "{'x': 1, 'y': 1}\n"
     ]
    }
   ],
   "source": [
    "p1 = Point(1, 1)\n",
    "p1.showinfo()\n",
    "print(p1.__dict__)\n"
   ]
  },
  {
   "cell_type": "code",
   "execution_count": 53,
   "metadata": {
    "collapsed": false
   },
   "outputs": [
    {
     "name": "stdout",
     "output_type": "stream",
     "text": [
      "{'x': 2, 'y': 2}\n"
     ]
    }
   ],
   "source": [
    "p2 = Point(2, 2)\n",
    "print(p2.__dict__)"
   ]
  },
  {
   "cell_type": "code",
   "execution_count": 54,
   "metadata": {
    "collapsed": false
   },
   "outputs": [
    {
     "name": "stdout",
     "output_type": "stream",
     "text": [
      "10 10\n"
     ]
    }
   ],
   "source": [
    "print(p2.a, p1.a)"
   ]
  },
  {
   "cell_type": "code",
   "execution_count": null,
   "metadata": {
    "collapsed": true
   },
   "outputs": [],
   "source": []
  }
 ],
 "metadata": {
  "kernelspec": {
   "display_name": "Python 3",
   "language": "python",
   "name": "python3"
  },
  "language_info": {
   "codemirror_mode": {
    "name": "ipython",
    "version": 3
   },
   "file_extension": ".py",
   "mimetype": "text/x-python",
   "name": "python",
   "nbconvert_exporter": "python",
   "pygments_lexer": "ipython3",
   "version": "3.6.0"
  }
 },
 "nbformat": 4,
 "nbformat_minor": 2
}
