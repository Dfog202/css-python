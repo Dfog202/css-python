{
 "cells": [
  {
   "cell_type": "code",
   "execution_count": 1,
   "metadata": {
    "collapsed": true
   },
   "outputs": [],
   "source": [
    "# tuple\n",
    "# dictionary 사용시 값 뒤에도 콤마 사용! 데이터 추가 쉽게하기위해서 (1,2,3,)\n",
    "\n",
    "tuple1 = (1,2,3,4,)"
   ]
  },
  {
   "cell_type": "code",
   "execution_count": 3,
   "metadata": {
    "collapsed": false
   },
   "outputs": [
    {
     "ename": "TypeError",
     "evalue": "'tuple' object doesn't support item deletion",
     "output_type": "error",
     "traceback": [
      "\u001b[0;31m---------------------------------------------------------------------------\u001b[0m",
      "\u001b[0;31mTypeError\u001b[0m                                 Traceback (most recent call last)",
      "\u001b[0;32m<ipython-input-3-82aca89ae7e8>\u001b[0m in \u001b[0;36m<module>\u001b[0;34m()\u001b[0m\n\u001b[1;32m      1\u001b[0m \u001b[0;31m#del 삭제\u001b[0m\u001b[0;34m\u001b[0m\u001b[0;34m\u001b[0m\u001b[0m\n\u001b[0;32m----> 2\u001b[0;31m \u001b[0;32mdel\u001b[0m \u001b[0mtuple1\u001b[0m\u001b[0;34m[\u001b[0m\u001b[0;36m1\u001b[0m\u001b[0;34m]\u001b[0m\u001b[0;34m\u001b[0m\u001b[0m\n\u001b[0m",
      "\u001b[0;31mTypeError\u001b[0m: 'tuple' object doesn't support item deletion"
     ]
    }
   ],
   "source": [
    "#del 삭제\n",
    "del tuple1[1]"
   ]
  },
  {
   "cell_type": "code",
   "execution_count": 4,
   "metadata": {
    "collapsed": false
   },
   "outputs": [
    {
     "ename": "TypeError",
     "evalue": "'tuple' object does not support item assignment",
     "output_type": "error",
     "traceback": [
      "\u001b[0;31m---------------------------------------------------------------------------\u001b[0m",
      "\u001b[0;31mTypeError\u001b[0m                                 Traceback (most recent call last)",
      "\u001b[0;32m<ipython-input-4-3d9c95ca3311>\u001b[0m in \u001b[0;36m<module>\u001b[0;34m()\u001b[0m\n\u001b[0;32m----> 1\u001b[0;31m \u001b[0mtuple1\u001b[0m\u001b[0;34m[\u001b[0m\u001b[0;36m1\u001b[0m\u001b[0;34m]\u001b[0m \u001b[0;34m=\u001b[0m \u001b[0;34m'c'\u001b[0m\u001b[0;34m\u001b[0m\u001b[0m\n\u001b[0m",
      "\u001b[0;31mTypeError\u001b[0m: 'tuple' object does not support item assignment"
     ]
    }
   ],
   "source": [
    "tuple1[1] = 'c'"
   ]
  },
  {
   "cell_type": "code",
   "execution_count": 6,
   "metadata": {
    "collapsed": false
   },
   "outputs": [
    {
     "name": "stdout",
     "output_type": "stream",
     "text": [
      "(1, 2, 3, 4, 'python', 'java')\n",
      "(1, 2, 3, 4, 'python', 'java', 'python', 'java', 'python', 'java')\n"
     ]
    }
   ],
   "source": [
    "tuple2 = ('python', 'java')\n",
    "print(tuple1 + tuple2)\n",
    "print(tuple1 + tuple2 * 3)"
   ]
  },
  {
   "cell_type": "code",
   "execution_count": 15,
   "metadata": {
    "collapsed": true
   },
   "outputs": [],
   "source": [
    "sw_x = 1\n",
    "sw_y = 'python'"
   ]
  },
  {
   "cell_type": "code",
   "execution_count": 13,
   "metadata": {
    "collapsed": false
   },
   "outputs": [
    {
     "name": "stdout",
     "output_type": "stream",
     "text": [
      "1 python\n"
     ]
    }
   ],
   "source": [
    "# 데이터 교환\n",
    "temp = sw_x\n",
    "sw_x = sw_y\n",
    "sw_y = temp\n",
    "print(sw_x, sw_y)"
   ]
  },
  {
   "cell_type": "code",
   "execution_count": 16,
   "metadata": {
    "collapsed": false
   },
   "outputs": [
    {
     "name": "stdout",
     "output_type": "stream",
     "text": [
      "python 1\n"
     ]
    }
   ],
   "source": [
    "# 데이터 교환2\n",
    "(sw_y, sw_x) = (sw_x, sw_y)\n",
    "print(sw_x, sw_y)"
   ]
  },
  {
   "cell_type": "code",
   "execution_count": 17,
   "metadata": {
    "collapsed": false
   },
   "outputs": [
    {
     "name": "stdout",
     "output_type": "stream",
     "text": [
      "python python\n"
     ]
    }
   ],
   "source": [
    "# 잘못된 데이터 교환 x,y가 덮어씌워짐\n",
    "sw_y = sw_x\n",
    "sw_x = sw_y\n",
    "print(sw_x, sw_y)"
   ]
  },
  {
   "cell_type": "code",
   "execution_count": 18,
   "metadata": {
    "collapsed": false,
    "scrolled": true
   },
   "outputs": [
    {
     "name": "stdout",
     "output_type": "stream",
     "text": [
      "6 20\n"
     ]
    }
   ],
   "source": [
    "# return quot // (quot, rem) << 이부분이 tuple 형식\n",
    "def quot_and_rem(a,b):\n",
    "    quot = a // b\n",
    "    rem = a % b\n",
    "    return (quot, rem)\n",
    "\n",
    "(quot, rem) = quot_and_rem(200, 30)\n",
    "print(quot, rem)"
   ]
  },
  {
   "cell_type": "code",
   "execution_count": 22,
   "metadata": {
    "collapsed": false
   },
   "outputs": [
    {
     "name": "stdout",
     "output_type": "stream",
     "text": [
      "{'name': 'foo bar'}\n"
     ]
    }
   ],
   "source": [
    "# 대괄호로 선언 list[], 중괄호로 선언 dict{}, 소괄호로 선언 tuple()\n",
    "dict1 = {}\n",
    "dict1 = {\n",
    "    'name': 'foo bar',\n",
    "}\n",
    "print(dict1)"
   ]
  },
  {
   "cell_type": "code",
   "execution_count": 31,
   "metadata": {
    "collapsed": false,
    "scrolled": false
   },
   "outputs": [
    {
     "name": "stdout",
     "output_type": "stream",
     "text": [
      "{'korean': 70, 'math': 80, 'science': [50, 80, 25, 100]}\n",
      "{'korean': 70, 'math': 80, 'science': [50, 80, 25, 100], 'english': 'pass'}\n",
      "{'korean': 70, 'science': [50, 80, 25, 100], 'english': 'pass'}\n"
     ]
    }
   ],
   "source": [
    "# 유니크하게! 수학1, 수학2 확실히 구분 가능하게!\n",
    "score = {\n",
    "    'korean': 70, \n",
    "    'math': 80, \n",
    "    'science': [50, 80, 25, 100],\n",
    "}\n",
    "print(score)\n",
    "\n",
    "score['english'] = \"pass\"\n",
    "print(score)\n",
    "\n",
    "del score['math']\n",
    "print(score)"
   ]
  },
  {
   "cell_type": "code",
   "execution_count": 36,
   "metadata": {
    "collapsed": false
   },
   "outputs": [
    {
     "name": "stdout",
     "output_type": "stream",
     "text": [
      "70\n",
      "dict_keys(['korean', 'science', 'english'])\n",
      "dict_values([70, [50, 80, 25, 100], 'pass'])\n",
      "dict_items([('korean', 70), ('science', [50, 80, 25, 100]), ('english', 'pass')])\n"
     ]
    }
   ],
   "source": [
    "print(score['korean'])\n",
    "print(score.keys())\n",
    "print(score.values())\n",
    "print(score.items())"
   ]
  },
  {
   "cell_type": "code",
   "execution_count": 40,
   "metadata": {
    "collapsed": false
   },
   "outputs": [
    {
     "name": "stdout",
     "output_type": "stream",
     "text": [
      "n is less than 5\n"
     ]
    }
   ],
   "source": [
    "# a = b a는 b다. a == b \n",
    "#else 예외처리 느낌?\n",
    "#elif 조건을 만족하지 않으면 다음경우로!\n",
    "#가장 많이사용하는 조건을 가장 위로\n",
    "\n",
    "n = 3\n",
    "if n > 10:\n",
    "    print('n is more then 10')\n",
    "else:\n",
    "    if n > 5:\n",
    "        print('n is more than 5')\n",
    "    else:\n",
    "        if n < 5:\n",
    "            print('n is less than 5')"
   ]
  },
  {
   "cell_type": "code",
   "execution_count": 42,
   "metadata": {
    "collapsed": false
   },
   "outputs": [
    {
     "name": "stdout",
     "output_type": "stream",
     "text": [
      "n is negative value\n"
     ]
    }
   ],
   "source": [
    "# elif 사용한 경우\n",
    "n = -3\n",
    "if n > 10:\n",
    "    print('n is more then 10')\n",
    "elif n > 5:\n",
    "    print('n is more than 5')\n",
    "elif n < 0:\n",
    "    print('n is negative value')\n",
    "else:\n",
    "    print('n is less than 5')"
   ]
  },
  {
   "cell_type": "code",
   "execution_count": 45,
   "metadata": {
    "collapsed": false
   },
   "outputs": [
    {
     "name": "stdout",
     "output_type": "stream",
     "text": [
      "92\n"
     ]
    }
   ],
   "source": [
    "#randint 랜덤한 int\n",
    "# import 후 2칸 비우기\n",
    "import random\n",
    "\n",
    "\n",
    "answer = random.randint(1, 100)\n",
    "print(answer)"
   ]
  },
  {
   "cell_type": "code",
   "execution_count": 47,
   "metadata": {
    "collapsed": false
   },
   "outputs": [
    {
     "name": "stdout",
     "output_type": "stream",
     "text": [
      "Hi there, what's your name?? Lee\n",
      "hi, Leeguess the number: 45\n",
      "That`s not what I wanted!! The answer was  92\n"
     ]
    }
   ],
   "source": [
    "username = input(\"Hi there, what's your name?? \")\n",
    "guess = eval(input(\"hi, \"+ username + \"guess the number: \"))\n",
    "\n",
    "if guess == answer:\n",
    "    print(\"correct! The answer was \", str(answer))\n",
    "else:\n",
    "    print(\"That`s not what I wanted!! The answer was \", str(answer))"
   ]
  },
  {
   "cell_type": "code",
   "execution_count": 48,
   "metadata": {
    "collapsed": false,
    "scrolled": true
   },
   "outputs": [
    {
     "name": "stdout",
     "output_type": "stream",
     "text": [
      "1\n",
      "3\n",
      "6\n",
      "10\n",
      "15\n",
      "21\n",
      "28\n",
      "36\n",
      "45\n",
      "55\n"
     ]
    }
   ],
   "source": [
    "sum = 0\n",
    "for i in range(1, 11):\n",
    "    sum += i\n",
    "# sum = sum + i\n",
    "    print(sum)"
   ]
  },
  {
   "cell_type": "code",
   "execution_count": 50,
   "metadata": {
    "collapsed": false
   },
   "outputs": [
    {
     "name": "stdout",
     "output_type": "stream",
     "text": [
      "please type any number: 45\n",
      "1\n",
      "2\n",
      "fizz\n",
      "4\n",
      "buzz\n",
      "fizz\n",
      "7\n",
      "8\n",
      "fizz\n",
      "buzz\n",
      "11\n",
      "fizz\n",
      "13\n",
      "14\n",
      "fizzbuzz\n",
      "16\n",
      "17\n",
      "fizz\n",
      "19\n",
      "buzz\n",
      "fizz\n",
      "22\n",
      "23\n",
      "fizz\n",
      "buzz\n",
      "26\n",
      "fizz\n",
      "28\n",
      "29\n",
      "fizzbuzz\n",
      "31\n",
      "32\n",
      "fizz\n",
      "34\n",
      "buzz\n",
      "fizz\n",
      "37\n",
      "38\n",
      "fizz\n",
      "buzz\n",
      "41\n",
      "fizz\n",
      "43\n",
      "44\n",
      "fizzbuzz\n"
     ]
    }
   ],
   "source": [
    "# while 답을 만족할때까지 반복\n",
    "# %로 나머지 구함\n",
    "num = int(input('please type any number: '))\n",
    "\n",
    "# 한바퀴 돌려주기 위헤서 num + 1\n",
    "for i in range(1, num + 1):\n",
    "    if i % 15 == 0:\n",
    "# if i % 3 == 0 and i % 5 == 0:\n",
    "        print(\"fizzbuzz\")\n",
    "    elif i % 3 == 0:\n",
    "        print(\"fizz\")\n",
    "    elif i % 5 == 0:\n",
    "        print('buzz')\n",
    "    else:\n",
    "        print(i)"
   ]
  },
  {
   "cell_type": "code",
   "execution_count": 55,
   "metadata": {
    "collapsed": false
   },
   "outputs": [
    {
     "name": "stdout",
     "output_type": "stream",
     "text": [
      "97\n",
      "Hi there, what's your name?? 1\n",
      "hi, 1! guess the number: 1\n",
      "Too Low. (2 times left.)\n",
      "hi, 1! guess the number: 1\n",
      "Too Low. (1 times left.)\n",
      "hi, 1! guess the number: 1\n",
      "Too Low. (0 times left.)\n",
      "You are dead. IT's 97\n"
     ]
    }
   ],
   "source": [
    "import random\n",
    "answer = random.randint(1, 100)\n",
    "# 개발자용. 실제 사용시 제거\n",
    "print(answer)\n",
    "\n",
    "\n",
    "username = input(\"Hi there, what's your name?? \")\n",
    "# 입력횟수 제한\n",
    "chance = 3\n",
    "\n",
    "# while True무한반복. 0 이외의 숫자 입력시 무한 반복\n",
    "while True:\n",
    "    guess = eval(input(\"hi, \"+ username + \"! guess the number: \"))\n",
    "\n",
    "    if guess == answer:\n",
    "        print(\"correct! The answer was \", str(answer))\n",
    "# 반복 종료\n",
    "        break\n",
    "# 힌트!! 입력값보다 높다 낮다.\n",
    "    elif guess > answer:\n",
    "    # 입력횟수 제한 2\n",
    "        chance -= 1\n",
    "        print(\"Too high. (%d times left.)\" % (chance))\n",
    "    elif guess < answer:\n",
    "        chance -= 1\n",
    "        print(\"Too Low. (%d times left.)\" % (chance))\n",
    "    if chance == 0:\n",
    "        print(\"You are dead.\", \"It's\", str(answer))\n",
    "        break"
   ]
  },
  {
   "cell_type": "code",
   "execution_count": 56,
   "metadata": {
    "collapsed": false
   },
   "outputs": [
    {
     "name": "stdout",
     "output_type": "stream",
     "text": [
      "Decide magic number: 5\n",
      "give me the some words to encrypt: abc\n",
      "encrypted message:  fgh\n",
      "decrypted message:  abc\n",
      "press any key to continue or 'q' to quit: q\n"
     ]
    }
   ],
   "source": [
    "# import - as - // ascii_uppercase 를 꺼낼때 up_case로 명명\n",
    "import string\n",
    "\n",
    "# string 전체를 import 하지않고 일부만 사용도 가능\n",
    "# A-Z 아스키코드 [대문자]\n",
    "from string import ascii_uppercase as up_case\n",
    "# a-z 아스키코드 [소문자]\n",
    "from string import ascii_lowercase as lo_case\n",
    "\n",
    "# decode = False 암호화, True 복호화\n",
    "# s 는 msg, k 는 encrypt_key\n",
    "def caesar(s, k, decode = False):\n",
    "    if decode:\n",
    "        k = 26 - k\n",
    "    return s.translate(\n",
    "        str.maketrans(\n",
    "            up_case + lo_case,\n",
    "            up_case[k:] + up_case[:k] +\n",
    "            lo_case[k:] + lo_case[:k]\n",
    "            )\n",
    "    )\n",
    "\n",
    "while True:\n",
    "    encrypt_key = int(input(\"Decide magic number: \"))\n",
    "    msg = input(\"give me the some words to encrypt: \")\n",
    "# 암호화 결과\n",
    "    print(\"encrypted message: \", caesar(msg, encrypt_key))\n",
    "# 복호화 결과\n",
    "    print(\"decrypted message: \", caesar(caesar(msg, encrypt_key), encrypt_key, True))\n",
    "# lower를 사용해서 소문자만 사용하게\n",
    "    exit = input(\"press any key to continue or 'q' to quit: \").lower()\n",
    "    # \n",
    "    if 'q' in exit:\n",
    "        break"
   ]
  },
  {
   "cell_type": "code",
   "execution_count": null,
   "metadata": {
    "collapsed": true
   },
   "outputs": [],
   "source": []
  }
 ],
 "metadata": {
  "kernelspec": {
   "display_name": "Python 3",
   "language": "python",
   "name": "python3"
  },
  "language_info": {
   "codemirror_mode": {
    "name": "ipython",
    "version": 3
   },
   "file_extension": ".py",
   "mimetype": "text/x-python",
   "name": "python",
   "nbconvert_exporter": "python",
   "pygments_lexer": "ipython3",
   "version": "3.6.0"
  }
 },
 "nbformat": 4,
 "nbformat_minor": 2
}
