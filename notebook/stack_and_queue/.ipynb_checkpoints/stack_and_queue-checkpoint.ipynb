{
 "cells": [
  {
   "cell_type": "code",
   "execution_count": 13,
   "metadata": {
    "collapsed": false
   },
   "outputs": [
    {
     "data": {
      "text/plain": [
       "'\\n# class Node:\\n    def __init__(self, data):\\n        self.data = data\\n        self.next = None\\n        \\nclass Stack:\\n    def __init__(self):\\n        self.head = None\\n        \\n    def push(self, data):\\n        new_data = Node(data)\\n        self.head = new_data\\n'"
      ]
     },
     "execution_count": 13,
     "metadata": {},
     "output_type": "execute_result"
    }
   ],
   "source": [
    "'''\n",
    " class Node:\n",
    "    def __init__(self, data):\n",
    "        self.data = data\n",
    "        self.next = None\n",
    "        \n",
    "class Stack:\n",
    "    def __init__(self):\n",
    "        self.head = None\n",
    "        \n",
    "    def push(self, data):\n",
    "        new_data = Node(data)\n",
    "        self.head = new_data\n",
    "'''"
   ]
  },
  {
   "cell_type": "code",
   "execution_count": 18,
   "metadata": {
    "collapsed": false
   },
   "outputs": [
    {
     "name": "stdout",
     "output_type": "stream",
     "text": [
      "5  4  3  2  1  "
     ]
    }
   ],
   "source": [
    "class Stack(list):\n",
    "    push = list.append\n",
    "    \n",
    "    def is_empty(self):\n",
    "        if not len(self):\n",
    "            return True\n",
    "        else:\n",
    "            return False\n",
    "        \n",
    "    def peek(self):\n",
    "        return self[-1]\n",
    "    \n",
    "# pop은 포함되어있음! delete 명령어\n",
    "\n",
    "if __name__ == '__main__':\n",
    "    s = Stack()\n",
    "    s.push(1)\n",
    "    s.push(2)\n",
    "    s.push(3)\n",
    "    s.push(4)\n",
    "    s.push(5)\n",
    "    \n",
    "    if s.is_empty():\n",
    "        print(\"there is no data\")\n",
    "    else:\n",
    "        while not s.is_empty():\n",
    "            data = s.pop()\n",
    "            print(data, end = '  ')"
   ]
  },
  {
   "cell_type": "code",
   "execution_count": 17,
   "metadata": {
    "collapsed": false
   },
   "outputs": [
    {
     "name": "stdout",
     "output_type": "stream",
     "text": [
      "1  2  3  4  5  "
     ]
    }
   ],
   "source": [
    "class Queue(list):\n",
    "    # enqueue = insert\n",
    "    enqueue = list.append\n",
    "    # dequeue = delete\n",
    "    def dequeue(self):\n",
    "        return self.pop(0)\n",
    "    \n",
    "    def is_empty(self):\n",
    "        if not self:\n",
    "            return True\n",
    "        else:\n",
    "            return False\n",
    "        \n",
    "    def peek(self):\n",
    "        return self[0]\n",
    "    \n",
    "if __name__ == '__main__':\n",
    "    q = Queue()\n",
    "    q.enqueue(1)\n",
    "    q.enqueue(2)\n",
    "    q.enqueue(3)\n",
    "    q.enqueue(4)\n",
    "    q.enqueue(5)\n",
    "    \n",
    "    while not q.is_empty():\n",
    "        print(q.dequeue(), end = '  ')"
   ]
  },
  {
   "cell_type": "code",
   "execution_count": null,
   "metadata": {
    "collapsed": true
   },
   "outputs": [],
   "source": []
  }
 ],
 "metadata": {
  "kernelspec": {
   "display_name": "Python 3",
   "language": "python",
   "name": "python3"
  },
  "language_info": {
   "codemirror_mode": {
    "name": "ipython",
    "version": 3
   },
   "file_extension": ".py",
   "mimetype": "text/x-python",
   "name": "python",
   "nbconvert_exporter": "python",
   "pygments_lexer": "ipython3",
   "version": "3.6.0"
  }
 },
 "nbformat": 4,
 "nbformat_minor": 2
}
