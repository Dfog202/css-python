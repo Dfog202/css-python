{
 "cells": [
  {
   "cell_type": "code",
   "execution_count": 2,
   "metadata": {
    "collapsed": false
   },
   "outputs": [
    {
     "name": "stdout",
     "output_type": "stream",
     "text": [
      "Decide magic number: 7\n",
      "give me the some words to encrypt: Hello. i`m python noob!!\n",
      "encrypted message:  Olssv. p`t wfaovu uvvi!!\n",
      "decrypted message:  Hello. i`m python noob!!\n",
      "press any key to continue or 'q' to quit: Q\n"
     ]
    }
   ],
   "source": [
    "import string\n",
    "\n",
    "\n",
    "from string import ascii_uppercase as up_case\n",
    "from string import ascii_lowercase as lo_case\n",
    "\n",
    "def caesar(s, k, decode = False):\n",
    "    if decode:\n",
    "        k = 26 - k\n",
    "    return s.translate(\n",
    "        str.maketrans(\n",
    "            up_case + lo_case,\n",
    "            up_case[k:] + up_case[:k] +\n",
    "            lo_case[k:] + lo_case[:k]\n",
    "            )\n",
    "    )\n",
    "\n",
    "while True:\n",
    "    encrypt_key = int(input(\"Decide magic number: \"))\n",
    "    msg = input(\"give me the some words to encrypt: \")\n",
    "    print(\"encrypted message: \", caesar(msg, encrypt_key))\n",
    "    print(\"decrypted message: \", caesar(caesar(msg, encrypt_key), encrypt_key, True))\n",
    "    exit = input(\"press any key to continue or 'q' to quit: \")\n",
    "    if 'q' or 'Q' in exit:\n",
    "        break"
   ]
  },
  {
   "cell_type": "code",
   "execution_count": 7,
   "metadata": {
    "collapsed": false
   },
   "outputs": [
    {
     "name": "stdout",
     "output_type": "stream",
     "text": [
      "Decide magic number: 4\n",
      "give me the some words to encrypt: Wow. I LOVE IT !!! that`s great\n",
      "encrypted message:  asa. m pszi mx !!! xlex`w kviex\n",
      "decrypted message:  wow. i love it !!! that`s great\n",
      "press any key to continue or 'q' to quit: Q\n"
     ]
    }
   ],
   "source": [
    "import string\n",
    "\n",
    "\n",
    "from string import ascii_lowercase as only_lo_case\n",
    "\n",
    "def caesar(s, k, decode = False):\n",
    "    if decode:\n",
    "        k = 26 - k\n",
    "    return s.translate(\n",
    "        str.maketrans(\n",
    "            only_lo_case,\n",
    "            only_lo_case[k:] + only_lo_case[:k]\n",
    "            )\n",
    "    )\n",
    "\n",
    "while True:\n",
    "    encrypt_key = int(input(\"Decide magic number: \"))\n",
    "    msg = input(\"give me the some words to encrypt: \"). lower()\n",
    "    print(\"encrypted message: \", caesar(msg, encrypt_key))\n",
    "    print(\"decrypted message: \", caesar(caesar(msg, encrypt_key), encrypt_key, True))\n",
    "    exit = input(\"press any key to continue or 'q' to quit: \"). lower()\n",
    "    if 'q' in exit:\n",
    "        break"
   ]
  },
  {
   "cell_type": "code",
   "execution_count": 9,
   "metadata": {
    "collapsed": false
   },
   "outputs": [
    {
     "name": "stdout",
     "output_type": "stream",
     "text": [
      "Decide magic number: 6\n",
      "give me the some words to encrypt: maybe. it`s working\n",
      "encrypted message:  SGEHK. OZ`Y CUXQOTM\n",
      "decrypted message:  MAYBE. IT`S WORKING\n",
      "press any key to continue or 'q' to quit: q\n"
     ]
    }
   ],
   "source": [
    "import string\n",
    "\n",
    "\n",
    "from string import ascii_uppercase as only_up_case\n",
    "\n",
    "def caesar(s, k, decode = False):\n",
    "    if decode:\n",
    "        k = 26 - k\n",
    "    return s.translate(\n",
    "        str.maketrans(\n",
    "            only_up_case,\n",
    "            only_up_case[k:] + only_up_case[:k]\n",
    "            )\n",
    "    )\n",
    "\n",
    "while True:\n",
    "    encrypt_key = int(input(\"Decide magic number: \"))\n",
    "    msg = input(\"give me the some words to encrypt: \"). upper()\n",
    "    print(\"encrypted message: \", caesar(msg, encrypt_key))\n",
    "    print(\"decrypted message: \", caesar(caesar(msg, encrypt_key), encrypt_key, True))\n",
    "    exit = input(\"press any key to continue or 'q' to quit: \"). upper()\n",
    "    if 'Q' in exit:\n",
    "        break"
   ]
  },
  {
   "cell_type": "code",
   "execution_count": null,
   "metadata": {
    "collapsed": true
   },
   "outputs": [],
   "source": []
  }
 ],
 "metadata": {
  "kernelspec": {
   "display_name": "Python 3",
   "language": "python",
   "name": "python3"
  },
  "language_info": {
   "codemirror_mode": {
    "name": "ipython",
    "version": 3
   },
   "file_extension": ".py",
   "mimetype": "text/x-python",
   "name": "python",
   "nbconvert_exporter": "python",
   "pygments_lexer": "ipython3",
   "version": "3.6.0"
  }
 },
 "nbformat": 4,
 "nbformat_minor": 2
}
