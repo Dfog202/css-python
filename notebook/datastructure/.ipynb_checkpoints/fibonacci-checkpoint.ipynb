{
 "cells": [
  {
   "cell_type": "code",
   "execution_count": 3,
   "metadata": {
    "collapsed": true
   },
   "outputs": [],
   "source": [
    "def fibo(n):\n",
    "    # 탈출조건 필요!\n",
    "    if n == 0 or n == 1:\n",
    "        return 1\n",
    "    return fibo(n-2) + fibo(n-1)"
   ]
  },
  {
   "cell_type": "code",
   "execution_count": 5,
   "metadata": {
    "collapsed": false
   },
   "outputs": [
    {
     "data": {
      "text/plain": [
       "55"
      ]
     },
     "execution_count": 5,
     "metadata": {},
     "output_type": "execute_result"
    }
   ],
   "source": [
    "fibo(9)"
   ]
  },
  {
   "cell_type": "code",
   "execution_count": 6,
   "metadata": {
    "collapsed": false
   },
   "outputs": [
    {
     "name": "stdout",
     "output_type": "stream",
     "text": [
      "1  1  2  3  5  8  13  21  34  55  "
     ]
    }
   ],
   "source": [
    "for i in range(10):\n",
    "    print(fibo(i), end = '  ')"
   ]
  },
  {
   "cell_type": "code",
   "execution_count": 8,
   "metadata": {
    "collapsed": false
   },
   "outputs": [
    {
     "data": {
      "text/plain": [
       "55"
      ]
     },
     "execution_count": 8,
     "metadata": {},
     "output_type": "execute_result"
    }
   ],
   "source": [
    "# 0 ~ n\n",
    "#sum = 0\n",
    "#for i in range(n + 1)\n",
    "#    sum += i \n",
    "    \n",
    "def sum_recursion(n):\n",
    "    if n == 0:\n",
    "        return 0\n",
    "    return sum_recursion(n-1) + n\n",
    "\n",
    "sum_recursion(10)"
   ]
  },
  {
   "cell_type": "code",
   "execution_count": null,
   "metadata": {
    "collapsed": true
   },
   "outputs": [],
   "source": [
    "# 0 ~ 100000000 까지 더하는 프로그램\n",
    "# 1. for 문 : 금지\n",
    "# 2. recursion : 터짐\n",
    "# 3. 등차수열"
   ]
  }
 ],
 "metadata": {
  "kernelspec": {
   "display_name": "Python 3",
   "language": "python",
   "name": "python3"
  },
  "language_info": {
   "codemirror_mode": {
    "name": "ipython",
    "version": 3
   },
   "file_extension": ".py",
   "mimetype": "text/x-python",
   "name": "python",
   "nbconvert_exporter": "python",
   "pygments_lexer": "ipython3",
   "version": "3.6.0"
  }
 },
 "nbformat": 4,
 "nbformat_minor": 2
}
