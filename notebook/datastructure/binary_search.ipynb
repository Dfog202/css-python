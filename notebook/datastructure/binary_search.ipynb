{
 "cells": [
  {
   "cell_type": "code",
   "execution_count": 28,
   "metadata": {
    "collapsed": false,
    "deletable": true,
    "editable": true
   },
   "outputs": [],
   "source": [
    "# 바이너리 서치를 쓰려면 반드시 데이터가 정렬되어 있어야 합니다.\n",
    "# start +1, end - 1\n",
    "#'''바이너리 서치를 사용하려면 반드시 데이터가 정렬되어 있어야 합니다.'''\n"
   ]
  },
  {
   "cell_type": "code",
   "execution_count": 31,
   "metadata": {
    "collapsed": false
   },
   "outputs": [],
   "source": [
    "def binary_search(target, data):\n",
    "    start = 0\n",
    "    end = len(data) - 1\n",
    "    \n",
    "    while start <= end:\n",
    "        mid = (start + end)//2\n",
    "        \n",
    "        if data[mid] == target:\n",
    "            return mid\n",
    "        elif data[mid] < target:\n",
    "            start = mid + 1\n",
    "        elif data[mid] > target:\n",
    "            end = mid - 1\n",
    "    return None\n"
   ]
  },
  {
   "cell_type": "code",
   "execution_count": 32,
   "metadata": {
    "collapsed": false
   },
   "outputs": [
    {
     "name": "stdout",
     "output_type": "stream",
     "text": [
      "찾는 데이터 11가 없습니다..\n"
     ]
    }
   ],
   "source": [
    "li = [i for i in range(11)]\n",
    "target = 11\n",
    "idx = binary_search(target, li)\n",
    "\n",
    "if idx:\n",
    "    print(li[idx])\n",
    "else:\n",
    "    print(\"찾는 데이터 {}가 없습니다..\".format(target))"
   ]
  },
  {
   "cell_type": "code",
   "execution_count": null,
   "metadata": {
    "collapsed": true
   },
   "outputs": [],
   "source": []
  }
 ],
 "metadata": {
  "kernelspec": {
   "display_name": "Python 3",
   "language": "python",
   "name": "python3"
  },
  "language_info": {
   "codemirror_mode": {
    "name": "ipython",
    "version": 3
   },
   "file_extension": ".py",
   "mimetype": "text/x-python",
   "name": "python",
   "nbconvert_exporter": "python",
   "pygments_lexer": "ipython3",
   "version": "3.6.0"
  }
 },
 "nbformat": 4,
 "nbformat_minor": 2
}
