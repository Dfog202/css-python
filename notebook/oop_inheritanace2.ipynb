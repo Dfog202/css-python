{
 "cells": [
  {
   "cell_type": "code",
   "execution_count": 17,
   "metadata": {
    "collapsed": true
   },
   "outputs": [],
   "source": [
    "class Gun:\n",
    "    def __init__(self, kind):\n",
    "        self.kind = kind\n",
    "        \n",
    "    def bang(self):\n",
    "        print(\"빵야!\")\n",
    "        \n",
    "# 객체합성\n",
    "class Police:\n",
    "    def __init__(self, gun_kind = ''):\n",
    "        if gun_kind:\n",
    "            # 대문자 건!\n",
    "            self.gun = Gun(gun_kind)\n",
    "        else:\n",
    "            self.gun = None\n",
    "            \n",
    "    def get_gun(self, gun_kind):\n",
    "        self.gun = Gun(gun_kind)\n",
    "    \n",
    "    def shoot(self):\n",
    "        if self.gun:\n",
    "            self.gun.bang()\n",
    "        else:\n",
    "            print(\"너 총 없어. 못쏴ㅋㅋㅋ\")\n",
    "\n",
    "        \n",
    "        "
   ]
  },
  {
   "cell_type": "code",
   "execution_count": 18,
   "metadata": {
    "collapsed": false
   },
   "outputs": [],
   "source": [
    "p1 = Police(\"리볼버\")"
   ]
  },
  {
   "cell_type": "code",
   "execution_count": 19,
   "metadata": {
    "collapsed": false
   },
   "outputs": [
    {
     "name": "stdout",
     "output_type": "stream",
     "text": [
      "빵야!\n"
     ]
    }
   ],
   "source": [
    "p1.shoot()"
   ]
  },
  {
   "cell_type": "code",
   "execution_count": 20,
   "metadata": {
    "collapsed": true
   },
   "outputs": [],
   "source": [
    "p2 = Police()"
   ]
  },
  {
   "cell_type": "code",
   "execution_count": 21,
   "metadata": {
    "collapsed": false
   },
   "outputs": [
    {
     "name": "stdout",
     "output_type": "stream",
     "text": [
      "너 총 없어. 못쏴ㅋㅋㅋ\n"
     ]
    }
   ],
   "source": [
    "p2.shoot()"
   ]
  },
  {
   "cell_type": "code",
   "execution_count": 22,
   "metadata": {
    "collapsed": false
   },
   "outputs": [],
   "source": [
    "p2.get_gun(\"기관총\")"
   ]
  },
  {
   "cell_type": "code",
   "execution_count": 23,
   "metadata": {
    "collapsed": false
   },
   "outputs": [
    {
     "name": "stdout",
     "output_type": "stream",
     "text": [
      "빵야!\n"
     ]
    }
   ],
   "source": [
    "p2.shoot()"
   ]
  },
  {
   "cell_type": "code",
   "execution_count": null,
   "metadata": {
    "collapsed": true
   },
   "outputs": [],
   "source": []
  }
 ],
 "metadata": {
  "kernelspec": {
   "display_name": "Python 3",
   "language": "python",
   "name": "python3"
  },
  "language_info": {
   "codemirror_mode": {
    "name": "ipython",
    "version": 3
   },
   "file_extension": ".py",
   "mimetype": "text/x-python",
   "name": "python",
   "nbconvert_exporter": "python",
   "pygments_lexer": "ipython3",
   "version": "3.6.0"
  }
 },
 "nbformat": 4,
 "nbformat_minor": 2
}
