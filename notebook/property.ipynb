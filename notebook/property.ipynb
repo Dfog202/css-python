{
 "cells": [
  {
   "cell_type": "code",
   "execution_count": 8,
   "metadata": {
    "collapsed": false
   },
   "outputs": [],
   "source": [
    "# getter 함수. 같은함수의 이름이 존재할수 없지만. property 로 가능\n",
    "# property : 객체를 통해 호출을 할때 마치 인스턴스 맴버처럼 호출\n",
    "#            인스턴스 메소드가 호출이 됩니다.\n",
    "class Person:\n",
    "    def __init__(self, money):\n",
    "        self.money = money\n",
    "    \n",
    "    # getter\n",
    "    @property\n",
    "    def money(self):\n",
    "        print(\"getter called\")\n",
    "        return self.__money\n",
    "    \n",
    "    # 뭔가의 제한을 걸때\n",
    "    # setter는 getter와 이름을 맞춘 money 이후에 .setter\n",
    "    @money.setter\n",
    "    def money(self, money):\n",
    "        print(\"setter called\")\n",
    "        if money < 0:\n",
    "            self.__money = 0\n",
    "        else:\n",
    "            self.__money = money\n",
    "        \n",
    "    def __str__(self):\n",
    "        return \"I have {} won\".format(self.__money)"
   ]
  },
  {
   "cell_type": "code",
   "execution_count": 10,
   "metadata": {
    "collapsed": false
   },
   "outputs": [
    {
     "name": "stdout",
     "output_type": "stream",
     "text": [
      "setter called\n"
     ]
    }
   ],
   "source": [
    "p1 = Person(-3000)"
   ]
  },
  {
   "cell_type": "code",
   "execution_count": 11,
   "metadata": {
    "collapsed": false
   },
   "outputs": [
    {
     "name": "stdout",
     "output_type": "stream",
     "text": [
      "I have 0 won\n"
     ]
    }
   ],
   "source": [
    "print(p1)"
   ]
  },
  {
   "cell_type": "code",
   "execution_count": 12,
   "metadata": {
    "collapsed": false
   },
   "outputs": [
    {
     "name": "stdout",
     "output_type": "stream",
     "text": [
      "getter called\n",
      "0\n"
     ]
    }
   ],
   "source": [
    "print(p1.money)"
   ]
  },
  {
   "cell_type": "code",
   "execution_count": 13,
   "metadata": {
    "collapsed": false
   },
   "outputs": [
    {
     "name": "stdout",
     "output_type": "stream",
     "text": [
      "getter called\n"
     ]
    },
    {
     "data": {
      "text/plain": [
       "0"
      ]
     },
     "execution_count": 13,
     "metadata": {},
     "output_type": "execute_result"
    }
   ],
   "source": [
    "a = p1.money\n",
    "a"
   ]
  },
  {
   "cell_type": "code",
   "execution_count": null,
   "metadata": {
    "collapsed": true
   },
   "outputs": [],
   "source": []
  }
 ],
 "metadata": {
  "kernelspec": {
   "display_name": "Python 3",
   "language": "python",
   "name": "python3"
  },
  "language_info": {
   "codemirror_mode": {
    "name": "ipython",
    "version": 3
   },
   "file_extension": ".py",
   "mimetype": "text/x-python",
   "name": "python",
   "nbconvert_exporter": "python",
   "pygments_lexer": "ipython3",
   "version": "3.6.0"
  }
 },
 "nbformat": 4,
 "nbformat_minor": 2
}
