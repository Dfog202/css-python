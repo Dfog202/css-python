{
 "cells": [
  {
   "cell_type": "code",
   "execution_count": 29,
   "metadata": {
    "collapsed": false
   },
   "outputs": [
    {
     "name": "stdout",
     "output_type": "stream",
     "text": [
      "12는 재미쩡 . abc는 별로\n",
      "내 이름은grag이고 나이는 18인데 그 나이 18는 사실 거짓이야\n",
      "18   grag\n",
      "18 grag\n"
     ]
    }
   ],
   "source": [
    "a = 12\n",
    "b = 'abc'\n",
    "print('{}는 재미쩡 . {}는 별로'.format(a,b))\n",
    "\n",
    "age = 18\n",
    "name = 'grag'\n",
    "print('내 이름은{n}이고 나이는 {a}인데 그 나이 {a}는 사실 거짓이야'\\\n",
    "      .format(n=name, a=age))\n",
    "print(age, end = '   ')\n",
    "print(name)\n",
    "print(age, name)"
   ]
  },
  {
   "cell_type": "code",
   "execution_count": 19,
   "metadata": {
    "collapsed": false
   },
   "outputs": [
    {
     "name": "stdout",
     "output_type": "stream",
     "text": [
      "1\n",
      "[2, 3, 4, 5]\n"
     ]
    }
   ],
   "source": [
    "tu = [1, 2, 3, 4, 5,]\n",
    "# a 를 하나, 나머지를 *b로 패킹!\n",
    "a, *b = tu\n",
    "print(a)\n",
    "print(b)"
   ]
  },
  {
   "cell_type": "code",
   "execution_count": 5,
   "metadata": {
    "collapsed": true
   },
   "outputs": [],
   "source": [
    "from functools import reduce\n",
    "import math #sqrt (스퀘어루트)\n",
    "import pickle"
   ]
  },
  {
   "cell_type": "code",
   "execution_count": 3,
   "metadata": {
    "collapsed": false
   },
   "outputs": [
    {
     "ename": "SyntaxError",
     "evalue": "invalid syntax (<ipython-input-3-33a653e1ec14>, line 3)",
     "output_type": "error",
     "traceback": [
      "\u001b[0;36m  File \u001b[0;32m\"<ipython-input-3-33a653e1ec14>\"\u001b[0;36m, line \u001b[0;32m3\u001b[0m\n\u001b[0;31m    reduce(a, b: (a + b) / 2, score)\u001b[0m\n\u001b[0m               ^\u001b[0m\n\u001b[0;31mSyntaxError\u001b[0m\u001b[0;31m:\u001b[0m invalid syntax\n"
     ]
    }
   ],
   "source": [
    "# score = [95, 23, 46, 25]\n",
    "def average(scores):\n",
    "    pass\n",
    "\n",
    "def variance(scores, arvg): # scores [95, 23, 25, 62] avrg: 50\n",
    "                            # sum((각 점수 - 평균0 **2) / 데이터의 개수\n",
    "    pass"
   ]
  },
  {
   "cell_type": "code",
   "execution_count": 33,
   "metadata": {
    "collapsed": false
   },
   "outputs": [],
   "source": [
    "def average(scores):\n",
    "    return reduce(lambda a, b: a + b, scores)/ len(scores)\n",
    "\n",
    "def variance(scores, arvg):\n",
    "    return reduce(lambda a, b: a + b, map(lambda s:(s - avrg)**2, scores))/len(scores)\n",
    "\n",
    "\n",
    "def evaluateClass(avrg, std_dev):\n",
    "    if avrg <50 and std_dev >20:\n",
    "        print(\"성적이 너무 저조하고 학생들의 실력 차이가 너무 크다.\")\n",
    "    elif avrg > 50 and std_dev >20:\n",
    "        print(\"성적은 평균이상이지만 학생들 실력 차이가 크다. 주의 요망!\")\n",
    "    elif avrg < 50 and std_dev <20:\n",
    "        print(\"학생들간 실력차는 나지 않으나 성적이 너무 저조하다. 주의 요망!\")\n",
    "    elif avrg > 50 and std_dev <20:\n",
    "        print(\"성적도 평균 이상이고 학생들의 실력차도 크지 않다.\")\n",
    "\n"
   ]
  },
  {
   "cell_type": "code",
   "execution_count": 34,
   "metadata": {
    "collapsed": false
   },
   "outputs": [
    {
     "name": "stdout",
     "output_type": "stream",
     "text": [
      "[{'greg': 95}, {'john': 25}, {'yang': 50}, {'timothy': 15}, {'melisa': 100}, {'thor': 10}, {'elen': 25}, {'mark': 80}, {'steve': 95}, {'anna': 20}]\n"
     ]
    }
   ],
   "source": [
    "f = open(\"class_A.bin\", \"rb\")\n",
    "\n",
    "items = []\n",
    "\n",
    "while 1:\n",
    "    try:\n",
    "        data = pickle.load(f)\n",
    "    except EOFError:\n",
    "        break\n",
    "    items.append(data)\n",
    "print(items)"
   ]
  },
  {
   "cell_type": "code",
   "execution_count": 35,
   "metadata": {
    "collapsed": false
   },
   "outputs": [
    {
     "name": "stdout",
     "output_type": "stream",
     "text": [
      "[95, 25, 50, 15, 100, 10, 25, 80, 95, 20]\n",
      "51.5\n",
      "1240.25\n",
      "\n",
      "\n",
      "**************************************************\n",
      "A반 성적 분석 결과\n",
      "**************************************************\n",
      "A반의 평균은 51.5점이고 분산은 1240.2이며, 따라서 표준편차는 35.2이다\n",
      "**************************************************\n",
      "A반 종합 평가\n",
      "**************************************************\n",
      "\n",
      "\n",
      "성적은 평균이상이지만 학생들 실력 차이가 크다. 주의 요망!\n"
     ]
    }
   ],
   "source": [
    "scores = []\n",
    "# {'greg' : 95}\n",
    "# { key   : value}\n",
    "# 키를 가져올땐 .keys // 결과를 가져올땐 .values // 모두 가져올땐 .items\n",
    "\n",
    "\n",
    "for item in items: # 아이템을 하나씩 가져온다 item에\n",
    "    for value in item.values(): # 아이템에서 velues 만 가져온다 velue에\n",
    "        scores.append(value) # scores 에 value값을 추가한다\n",
    "        \n",
    "print(scores)\n",
    "\n",
    "avrg = average(scores)\n",
    "print(avrg)\n",
    "\n",
    "vari = variance(scores, avrg) \n",
    "print(vari)\n",
    "\n",
    "'''\n",
    "vari = round(variance(scores, avrg), 1) # 소수점 1개까지만 원해용 \n",
    "print(vari)\n",
    "'''\n",
    "\n",
    "avrg = average(scores)\n",
    "variance = round(variance(scores, avrg), 1)\n",
    "standard_deviation = round(math.sqrt(variance), 1)\n",
    "\n",
    "print(\"\\n\")\n",
    "\n",
    "print('*' * 50)\n",
    "print(\"A반 성적 분석 결과\")\n",
    "print('*' * 50)\n",
    "print(\"A반의 평균은 {0}점이고 분산은 {1}이며, 따라서 표준편차는 {2}이다\"\\\n",
    "      .format(avrg, variance, standard_deviation))\n",
    "print('*' * 50)\n",
    "print(\"A반 종합 평가\")\n",
    "print('*' * 50)\n",
    "\n",
    "print('\\n')\n",
    "\n",
    "evaluateClass(avrg, standard_deviation)\n",
    "\n",
    "f.close()"
   ]
  },
  {
   "cell_type": "code",
   "execution_count": null,
   "metadata": {
    "collapsed": true
   },
   "outputs": [],
   "source": []
  }
 ],
 "metadata": {
  "kernelspec": {
   "display_name": "Python 3",
   "language": "python",
   "name": "python3"
  },
  "language_info": {
   "codemirror_mode": {
    "name": "ipython",
    "version": 3
   },
   "file_extension": ".py",
   "mimetype": "text/x-python",
   "name": "python",
   "nbconvert_exporter": "python",
   "pygments_lexer": "ipython3",
   "version": "3.6.0"
  }
 },
 "nbformat": 4,
 "nbformat_minor": 2
}
