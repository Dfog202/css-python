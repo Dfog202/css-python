{
 "cells": [
  {
   "cell_type": "code",
   "execution_count": 24,
   "metadata": {
    "collapsed": false
   },
   "outputs": [],
   "source": [
    "# member + method : attribute(속성)\n",
    "\n",
    "class Person:\n",
    "    # member 정보\n",
    "    def __init__(self, name, age, money):\n",
    "        self.name = name\n",
    "        self.age = age\n",
    "        self.money = money\n",
    "        self.hp = 100\n",
    "        \n",
    "    # method 행동\n",
    "    def givemoney(self, other, money):\n",
    "        self.money -= money\n",
    "        other.money += money\n",
    "    \n",
    "    def under_stress(self, hp):\n",
    "        self.hp -= hp\n",
    "        \n",
    "    def showinfo(self):\n",
    "        print(\"name : {} \\n age : {}\".format(self.money, self.age))\n",
    "        \n",
    "# 다른 클래스와의 통신도 가능.        \n",
    "class CD:\n",
    "    def __init__(self, local, capacity):\n",
    "        self.local = local\n",
    "        self.capacity = capacity\n",
    "        \n",
    "    def givemoney(self, person, money):\n",
    "        self.capacity -= money\n",
    "        person.money += money\n",
    "        \n",
    "    def showinfo(self):\n",
    "        print('cd name {} \\n capacity : {}'.format(self.local, self.capacity))"
   ]
  },
  {
   "cell_type": "code",
   "execution_count": 26,
   "metadata": {
    "collapsed": false
   },
   "outputs": [
    {
     "name": "stdout",
     "output_type": "stream",
     "text": [
      "cd name oo \n",
      " capacity : 1000000\n",
      "name : 1005000 \n",
      " age : 18\n"
     ]
    }
   ],
   "source": [
    "person_1 = Person(\"greg\", 18, 5000)\n",
    "person_2 = Person(\"matt\", 25, 1000)\n",
    "cd_1 = CD('oo', 2000000)\n",
    "\n",
    "cd_1.givemoney(person_1, 1000000)\n",
    "cd_1.showinfo()\n",
    "person_1.showinfo()"
   ]
  },
  {
   "cell_type": "code",
   "execution_count": 12,
   "metadata": {
    "collapsed": true
   },
   "outputs": [],
   "source": [
    "# interaction between instance = massage passing 교류....\n",
    "# 탭 누르면 자동완성~\n",
    "person_1.givemoney(person_2, 2000)"
   ]
  },
  {
   "cell_type": "code",
   "execution_count": 13,
   "metadata": {
    "collapsed": false
   },
   "outputs": [
    {
     "name": "stdout",
     "output_type": "stream",
     "text": [
      "name : 3000 \n",
      " age : 18\n",
      "name : 3000 \n",
      " age : 25\n"
     ]
    }
   ],
   "source": [
    "person_1.showinfo()\n",
    "person_2.showinfo()"
   ]
  },
  {
   "cell_type": "code",
   "execution_count": 14,
   "metadata": {
    "collapsed": false
   },
   "outputs": [
    {
     "data": {
      "text/plain": [
       "'\\nperson_1.showinfo()\\nperson_2.showinfo()\\nperson_1.money -= 2000\\nperson_2.money += 2000\\nperson_1.showinfo()\\nperson_2.showinfo()\\n'"
      ]
     },
     "execution_count": 14,
     "metadata": {},
     "output_type": "execute_result"
    }
   ],
   "source": [
    "# 잘못된 방법! 정보에 직접 접속하면 앙됨\n",
    "'''\n",
    "person_1.showinfo()\n",
    "person_2.showinfo()\n",
    "person_1.money -= 2000\n",
    "person_2.money += 2000\n",
    "person_1.showinfo()\n",
    "person_2.showinfo()\n",
    "'''"
   ]
  },
  {
   "cell_type": "code",
   "execution_count": null,
   "metadata": {
    "collapsed": true
   },
   "outputs": [],
   "source": []
  }
 ],
 "metadata": {
  "kernelspec": {
   "display_name": "Python 3",
   "language": "python",
   "name": "python3"
  },
  "language_info": {
   "codemirror_mode": {
    "name": "ipython",
    "version": 3
   },
   "file_extension": ".py",
   "mimetype": "text/x-python",
   "name": "python",
   "nbconvert_exporter": "python",
   "pygments_lexer": "ipython3",
   "version": "3.6.0"
  }
 },
 "nbformat": 4,
 "nbformat_minor": 2
}
