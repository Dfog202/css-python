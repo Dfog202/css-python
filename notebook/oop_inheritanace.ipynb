{
 "cells": [
  {
   "cell_type": "code",
   "execution_count": 1,
   "metadata": {
    "collapsed": true
   },
   "outputs": [],
   "source": [
    "# 상속 : 자식 클래스가 부모 클래스의 모든 맴버와 메소드를 이어받는다.\n",
    "\n",
    "class Base:\n",
    "    def __init__(self, a, b):\n",
    "        self.a = a\n",
    "        self.b = b\n",
    "        \n",
    "    def func1(self):\n",
    "        print(\"func1 called\")\n",
    "    \n",
    "class Derived(Base):\n",
    "    pass\n"
   ]
  },
  {
   "cell_type": "code",
   "execution_count": 2,
   "metadata": {
    "collapsed": true
   },
   "outputs": [],
   "source": [
    "d = Derived(5, 3)"
   ]
  },
  {
   "cell_type": "code",
   "execution_count": 3,
   "metadata": {
    "collapsed": false
   },
   "outputs": [
    {
     "name": "stdout",
     "output_type": "stream",
     "text": [
      "5 3\n"
     ]
    }
   ],
   "source": [
    "print(d.a, d.b)"
   ]
  },
  {
   "cell_type": "code",
   "execution_count": 4,
   "metadata": {
    "collapsed": false
   },
   "outputs": [
    {
     "name": "stdout",
     "output_type": "stream",
     "text": [
      "func1 called\n"
     ]
    }
   ],
   "source": [
    "d.func1()"
   ]
  },
  {
   "cell_type": "code",
   "execution_count": 14,
   "metadata": {
    "collapsed": false
   },
   "outputs": [],
   "source": [
    "# 부모 : 자식이 모두 가지고 있는 공통된 속성(attribute)을  여기에서 정의\n",
    "\n",
    "class Computer:\n",
    "    def __init__(self, cpu, ram, hard_disk):\n",
    "        self.cpu = cpu\n",
    "        self.ram = ram\n",
    "        self.hard_disk = hard_disk\n",
    "        \n",
    "    def calculate(self):\n",
    "        print(\"calculating - - -!\")\n",
    "        \n",
    "    def __str__(self):\n",
    "        return \"I am a computer\"\n",
    "        \n",
    "class Laptop(Computer):\n",
    "    def __init__(self, cpu, ram, hard_disk, touch = \"nomal\", cam = \"small\"):\n",
    "        # 1. 클래스 이름으로 접근\n",
    "        Computer.__init__(self, cpu, ram, hard_disk)\n",
    "        self.touch = touch\n",
    "        self.cam = cam\n",
    "        \n",
    "    # 정의되어 있지 않아도 calculate() 는 존재한다\n",
    "    # 노트북이라서 조금 느린 연산을 표현하고싶다\n",
    "    \n",
    "    def calculate(self):\n",
    "        print(\"laptop calculating - - -! ... ... a little bit slow\")\n",
    "    \n",
    "    def __str__(self):\n",
    "               return super(Laptop, self).__str__() +\\\n",
    "        \"I am a computer but I have mobi!\"\n",
    "               \n",
    "class Desktop(Computer):\n",
    "    def __init__(self, cpu, ram, hard_disk, external_grapic = \"Geforce\"):\n",
    "        # 2. 슈퍼를 이용해 접근\n",
    "        super(Desktop, self).__init__(cpu, ram, hard_disk)\n",
    "        self.external_grapic = external_grapic\n",
    "        \n"
   ]
  },
  {
   "cell_type": "code",
   "execution_count": 11,
   "metadata": {
    "collapsed": false
   },
   "outputs": [],
   "source": [
    "l1 = Laptop(\"i5\", \"12g\", \"1t\")"
   ]
  },
  {
   "cell_type": "code",
   "execution_count": 12,
   "metadata": {
    "collapsed": false
   },
   "outputs": [
    {
     "name": "stdout",
     "output_type": "stream",
     "text": [
      "laptop calculating - - -! ... ... a little bit slow\n"
     ]
    }
   ],
   "source": [
    "l1.calculate()"
   ]
  },
  {
   "cell_type": "code",
   "execution_count": null,
   "metadata": {
    "collapsed": true
   },
   "outputs": [],
   "source": []
  }
 ],
 "metadata": {
  "kernelspec": {
   "display_name": "Python 3",
   "language": "python",
   "name": "python3"
  },
  "language_info": {
   "codemirror_mode": {
    "name": "ipython",
    "version": 3
   },
   "file_extension": ".py",
   "mimetype": "text/x-python",
   "name": "python",
   "nbconvert_exporter": "python",
   "pygments_lexer": "ipython3",
   "version": "3.6.0"
  }
 },
 "nbformat": 4,
 "nbformat_minor": 2
}
